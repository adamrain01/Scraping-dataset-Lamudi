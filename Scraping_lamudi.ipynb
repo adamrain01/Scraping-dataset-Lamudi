{
  "nbformat": 4,
  "nbformat_minor": 0,
  "metadata": {
    "colab": {
      "provenance": [],
      "collapsed_sections": [
        "fxu6WGx5pGZq",
        "A7of_rQpoavb"
      ]
    },
    "kernelspec": {
      "name": "python3",
      "display_name": "Python 3"
    },
    "language_info": {
      "name": "python"
    }
  },
  "cells": [
    {
      "cell_type": "markdown",
      "source": [
        "#Scraping lamudi.co.id\n"
      ],
      "metadata": {
        "id": "nfX_aYjbuuoH"
      }
    },
    {
      "cell_type": "code",
      "source": [
        "import requests\n",
        "from bs4 import BeautifulSoup\n",
        "import pandas as pd\n",
        "from google.colab import files\n",
        "\n",
        "data_properti=[]\n",
        "count = 0\n",
        "for i in range(1,30):\n",
        "  count += 1\n",
        "  print('Page Scraping : ',count) \n",
        "  each_data = {} \n",
        "  URL = 'https://www.lamudi.co.id/yogyakarta/house/rent/?page={}'.format(i) \n",
        "  page = requests.get(URL) \n",
        "  soup = BeautifulSoup(page.content, 'html.parser') \n",
        "  all = soup.find_all(\"div\",attrs={\"class\":\"row ListingCell-row ListingCell-agent-redesign\"}) \n",
        "   \n",
        "  for each in all: \n",
        "    all_details = each.find(\"div\",attrs={\"class\":\"ListingCell-AllInfo ListingUnit\"}) \n",
        "    alamat = each.find('span', class_='ListingCell-KeyInfo-address-text').text.replace(',','').strip()\n",
        "    deskripsi = each.find('div', class_='ListingCell-shortDescription ').text.strip()\n",
        "    nama = each.find('div','ListingCell-TitleWrapper').text.strip()\n",
        "    try:\n",
        "      id = all_details['data-sku']\n",
        "    except:\n",
        "      pass\n",
        "    \n",
        "    try: \n",
        "      price = all_details['data-price']\n",
        "    except:\n",
        "      pass\n",
        "    \n",
        "    try: \n",
        "      category = all_details['data-category']\n",
        "    except:\n",
        "      pass\n",
        "\n",
        "    try: \n",
        "      sub_category = all_details['data-subcategories']\n",
        "    except:\n",
        "      pass\n",
        "\n",
        "    try: \n",
        "      bedrooms = all_details['data-bedrooms']\n",
        "    except:\n",
        "      pass\n",
        "\n",
        "    try: \n",
        "      bathrooms = all_details['data-bathrooms']\n",
        "    except:\n",
        "      pass\n",
        "\n",
        "    try: \n",
        "      build_size = all_details['data-building_size']\n",
        "    except:\n",
        "      pass\n",
        "\n",
        "    try: \n",
        "      land_size = all_details['data-land_size']\n",
        "    except:\n",
        "      pass\n",
        "    '''\n",
        "    try: \n",
        "      subdiv = all_details['data-subdivisionname']\n",
        "    except:\n",
        "      pass\n",
        "    '''\n",
        "    try: \n",
        "      data_furnished = all_details['data-furnished']\n",
        "    except:\n",
        "      pass\n",
        "\n",
        "    try: \n",
        "     geo_loc = all_details['data-geo-point']\n",
        "    except:\n",
        "      pass \n",
        "  \n",
        "    \n",
        "    data_lamudi={\n",
        "        'id' : id,\n",
        "        'nama' : nama,\n",
        "        'price' : price,\n",
        "        'deskripsi' : deskripsi,\n",
        "        'alamat' : alamat,\n",
        "        'category' : category,\n",
        "        'sub_category' : sub_category,\n",
        "        'bedrooms' : bedrooms,\n",
        "        'bathrooms' : bathrooms,\n",
        "        'build_size' : build_size,\n",
        "        'land_size' : land_size,\n",
        "        #'subdiv' : subdiv,\n",
        "        'data_furnished' : data_furnished,\n",
        "        'geo_loc' : geo_loc\n",
        "    }\n",
        "\n",
        "    \n",
        "    data_properti.append(data_lamudi)\n",
        "    df=pd.DataFrame(data_properti)\n",
        "    df.to_csv('data_properti.csv') \n",
        "   \n"
      ],
      "metadata": {
        "id": "5ZdJrcYduwdP"
      },
      "execution_count": null,
      "outputs": []
    },
    {
      "cell_type": "code",
      "source": [
        "df.head()"
      ],
      "metadata": {
        "id": "8EzkO4p0TdUX"
      },
      "execution_count": null,
      "outputs": []
    },
    {
      "cell_type": "code",
      "source": [
        "df.to_excel('data_sewa_26-09-2022.xlsx') \n",
        "files.download('data_sewa_26-09-2022.xlsx')"
      ],
      "metadata": {
        "colab": {
          "base_uri": "https://localhost:8080/",
          "height": 17
        },
        "id": "TCBjXA3Pzpd_",
        "outputId": "5dbd8b9d-02b3-4c6c-d3ad-b089895a4c6e"
      },
      "execution_count": null,
      "outputs": [
        {
          "output_type": "display_data",
          "data": {
            "text/plain": [
              "<IPython.core.display.Javascript object>"
            ],
            "application/javascript": [
              "\n",
              "    async function download(id, filename, size) {\n",
              "      if (!google.colab.kernel.accessAllowed) {\n",
              "        return;\n",
              "      }\n",
              "      const div = document.createElement('div');\n",
              "      const label = document.createElement('label');\n",
              "      label.textContent = `Downloading \"${filename}\": `;\n",
              "      div.appendChild(label);\n",
              "      const progress = document.createElement('progress');\n",
              "      progress.max = size;\n",
              "      div.appendChild(progress);\n",
              "      document.body.appendChild(div);\n",
              "\n",
              "      const buffers = [];\n",
              "      let downloaded = 0;\n",
              "\n",
              "      const channel = await google.colab.kernel.comms.open(id);\n",
              "      // Send a message to notify the kernel that we're ready.\n",
              "      channel.send({})\n",
              "\n",
              "      for await (const message of channel.messages) {\n",
              "        // Send a message to notify the kernel that we're ready.\n",
              "        channel.send({})\n",
              "        if (message.buffers) {\n",
              "          for (const buffer of message.buffers) {\n",
              "            buffers.push(buffer);\n",
              "            downloaded += buffer.byteLength;\n",
              "            progress.value = downloaded;\n",
              "          }\n",
              "        }\n",
              "      }\n",
              "      const blob = new Blob(buffers, {type: 'application/binary'});\n",
              "      const a = document.createElement('a');\n",
              "      a.href = window.URL.createObjectURL(blob);\n",
              "      a.download = filename;\n",
              "      div.appendChild(a);\n",
              "      a.click();\n",
              "      div.remove();\n",
              "    }\n",
              "  "
            ]
          },
          "metadata": {}
        },
        {
          "output_type": "display_data",
          "data": {
            "text/plain": [
              "<IPython.core.display.Javascript object>"
            ],
            "application/javascript": [
              "download(\"download_4e3ca54e-050d-48ca-bb93-9220c5b4d1f5\", \"data_sewa_26-09-2022.xlsx\", 235792)"
            ]
          },
          "metadata": {}
        }
      ]
    }
  ]
}